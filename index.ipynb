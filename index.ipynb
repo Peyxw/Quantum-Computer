{
 "metadata": {
  "language_info": {
   "codemirror_mode": {
    "name": "ipython",
    "version": 3
   },
   "file_extension": ".py",
   "mimetype": "text/x-python",
   "name": "python",
   "nbconvert_exporter": "python",
   "pygments_lexer": "ipython3",
   "version": "3.7.0"
  },
  "orig_nbformat": 4,
  "kernelspec": {
   "name": "python3",
   "display_name": "Python 3.7.0 64-bit"
  },
  "interpreter": {
   "hash": "ab5bd4c1dca4095fe5035ceec8bc4ac3acb80901b348895ab82c1083a26e57d9"
  }
 },
 "nbformat": 4,
 "nbformat_minor": 2,
 "cells": [
  {
   "cell_type": "code",
   "execution_count": 2,
   "metadata": {},
   "outputs": [
    {
     "output_type": "execute_result",
     "data": {
      "text/plain": [
       "     ┌───┐     ┌─┐   \n",
       "q_0: ┤ X ├──■──┤M├───\n",
       "     └───┘┌─┴─┐└╥┘┌─┐\n",
       "q_1: ─────┤ X ├─╫─┤M├\n",
       "          └───┘ ║ └╥┘\n",
       "c: 2/═══════════╩══╩═\n",
       "                0  1 "
      ],
      "text/html": "<pre style=\"word-wrap: normal;white-space: pre;background: #fff0;line-height: 1.1;font-family: &quot;Courier New&quot;,Courier,monospace\">     ┌───┐     ┌─┐   \nq_0: ┤ X ├──■──┤M├───\n     └───┘┌─┴─┐└╥┘┌─┐\nq_1: ─────┤ X ├─╫─┤M├\n          └───┘ ║ └╥┘\nc: 2/═══════════╩══╩═\n                0  1 </pre>"
     },
     "metadata": {},
     "execution_count": 2
    }
   ],
   "source": [
    "import qiskit as q\n",
    "%matplotlib inline\n",
    "\n",
    "circuit = q.QuantumCircuit(2,2)  # 2 qubits, 2 classical bits \n",
    "circuit.x(0) # \"x\" is a \"not\" gate. It flips the value. Starting value is a 0, so this flips to a 1. \n",
    "circuit.cx(0, 1) #cnot, controlled not, Flips 2nd qubit's value if first qubit is 1\n",
    "circuit.measure([0,1], [0,1])  # ([qbitregister], [classicalbitregister]) Measure qubit 0 and 1 to classical bits 0 and 1\n",
    "circuit.draw()  # text-based visualization. (pretty cool ...actually! Nice job whoever did this.)"
   ]
  },
  {
   "cell_type": "code",
   "execution_count": 3,
   "metadata": {},
   "outputs": [
    {
     "output_type": "execute_result",
     "data": {
      "text/plain": [
       "<Figure size 327.252x204.68 with 1 Axes>"
      ],
      "image/svg+xml": "<?xml version=\"1.0\" encoding=\"utf-8\" standalone=\"no\"?>\r\n<!DOCTYPE svg PUBLIC \"-//W3C//DTD SVG 1.1//EN\"\r\n  \"http://www.w3.org/Graphics/SVG/1.1/DTD/svg11.dtd\">\r\n<svg height=\"168.9334pt\" version=\"1.1\" viewBox=\"0 0 261.475272 168.9334\" width=\"261.475272pt\" xmlns=\"http://www.w3.org/2000/svg\" xmlns:xlink=\"http://www.w3.org/1999/xlink\">\r\n <metadata>\r\n  <rdf:RDF xmlns:cc=\"http://creativecommons.org/ns#\" xmlns:dc=\"http://purl.org/dc/elements/1.1/\" xmlns:rdf=\"http://www.w3.org/1999/02/22-rdf-syntax-ns#\">\r\n   <cc:Work>\r\n    <dc:type rdf:resource=\"http://purl.org/dc/dcmitype/StillImage\"/>\r\n    <dc:date>2021-06-12T23:42:27.118021</dc:date>\r\n    <dc:format>image/svg+xml</dc:format>\r\n    <dc:creator>\r\n     <cc:Agent>\r\n      <dc:title>Matplotlib v3.4.2, https://matplotlib.org/</dc:title>\r\n     </cc:Agent>\r\n    </dc:creator>\r\n   </cc:Work>\r\n  </rdf:RDF>\r\n </metadata>\r\n <defs>\r\n  <style type=\"text/css\">*{stroke-linecap:butt;stroke-linejoin:round;}</style>\r\n </defs>\r\n <g id=\"figure_1\">\r\n  <g id=\"patch_1\">\r\n   <path d=\"M 0 168.9334 \r\nL 261.475272 168.9334 \r\nL 261.475272 0 \r\nL 0 0 \r\nz\r\n\" style=\"fill:#ffffff;\"/>\r\n  </g>\r\n  <g id=\"axes_1\">\r\n   <g id=\"patch_2\">\r\n    <path clip-path=\"url(#p788edac38d)\" d=\"M 172.917982 124.122697 \r\nL 184.735242 124.122697 \r\nL 178.826612 132.64476 \r\nz\r\n\" style=\"fill:#778899;\"/>\r\n   </g>\r\n   <g id=\"patch_3\">\r\n    <path clip-path=\"url(#p788edac38d)\" d=\"M 218.368982 124.122697 \r\nL 230.186242 124.122697 \r\nL 224.277612 132.64476 \r\nz\r\n\" style=\"fill:#778899;\"/>\r\n   </g>\r\n   <g id=\"line2d_1\">\r\n    <path clip-path=\"url(#p788edac38d)\" d=\"M 63.381072 43.5608 \r\nL 249.730172 43.5608 \r\n\" style=\"fill:none;stroke:#000000;stroke-linecap:square;stroke-width:2;\"/>\r\n   </g>\r\n   <g id=\"line2d_2\">\r\n    <path clip-path=\"url(#p788edac38d)\" d=\"M 63.381072 89.0118 \r\nL 249.730172 89.0118 \r\n\" style=\"fill:none;stroke:#000000;stroke-linecap:square;stroke-width:2;\"/>\r\n   </g>\r\n   <g id=\"line2d_3\">\r\n    <path clip-path=\"url(#p788edac38d)\" d=\"M 63.381072 132.985642 \r\nL 249.730172 132.985642 \r\n\" style=\"fill:none;stroke:#778899;stroke-linecap:square;stroke-width:2;\"/>\r\n   </g>\r\n   <g id=\"line2d_4\">\r\n    <path clip-path=\"url(#p788edac38d)\" d=\"M 63.381072 135.939957 \r\nL 249.730172 135.939957 \r\n\" style=\"fill:none;stroke:#778899;stroke-linecap:square;stroke-width:2;\"/>\r\n   </g>\r\n   <g id=\"line2d_5\">\r\n    <path clip-path=\"url(#p788edac38d)\" d=\"M 133.375612 89.0118 \r\nL 133.375612 43.5608 \r\n\" style=\"fill:none;stroke:#6fa4ff;stroke-linecap:square;stroke-width:2;\"/>\r\n   </g>\r\n   <g id=\"line2d_6\">\r\n    <path clip-path=\"url(#p788edac38d)\" d=\"M 180.30377 43.5608 \r\nL 180.30377 124.122697 \r\n\" style=\"fill:none;stroke:#778899;stroke-linecap:square;stroke-width:2;\"/>\r\n   </g>\r\n   <g id=\"line2d_7\">\r\n    <path clip-path=\"url(#p788edac38d)\" d=\"M 177.349455 43.5608 \r\nL 177.349455 124.122697 \r\n\" style=\"fill:none;stroke:#778899;stroke-linecap:square;stroke-width:2;\"/>\r\n   </g>\r\n   <g id=\"line2d_8\">\r\n    <path clip-path=\"url(#p788edac38d)\" d=\"M 225.75477 89.0118 \r\nL 225.75477 124.122697 \r\n\" style=\"fill:none;stroke:#778899;stroke-linecap:square;stroke-width:2;\"/>\r\n   </g>\r\n   <g id=\"line2d_9\">\r\n    <path clip-path=\"url(#p788edac38d)\" d=\"M 222.800455 89.0118 \r\nL 222.800455 124.122697 \r\n\" style=\"fill:none;stroke:#778899;stroke-linecap:square;stroke-width:2;\"/>\r\n   </g>\r\n   <g id=\"line2d_10\">\r\n    <path clip-path=\"url(#p788edac38d)\" d=\"M 72.471272 139.0079 \r\nL 77.016372 129.9177 \r\n\" style=\"fill:none;stroke:#778899;stroke-linecap:square;stroke-width:1.5;\"/>\r\n   </g>\r\n   <g id=\"patch_4\">\r\n    <path clip-path=\"url(#p788edac38d)\" d=\"M 73.153037 58.332375 \r\nL 102.696187 58.332375 \r\nL 102.696187 28.789225 \r\nL 73.153037 28.789225 \r\nz\r\n\" style=\"fill:#05bab6;stroke:#05bab6;stroke-linejoin:miter;stroke-width:1.5;\"/>\r\n   </g>\r\n   <g id=\"patch_5\">\r\n    <path clip-path=\"url(#p788edac38d)\" d=\"M 133.375612 47.992272 \r\nC 134.550852 47.992272 135.678116 47.525345 136.509136 46.694324 \r\nC 137.340157 45.863304 137.807085 44.73604 137.807085 43.5608 \r\nC 137.807085 42.38556 137.340157 41.258296 136.509136 40.427276 \r\nC 135.678116 39.596255 134.550852 39.129327 133.375612 39.129327 \r\nC 132.200372 39.129327 131.073108 39.596255 130.242088 40.427276 \r\nC 129.411067 41.258296 128.94414 42.38556 128.94414 43.5608 \r\nC 128.94414 44.73604 129.411067 45.863304 130.242088 46.694324 \r\nC 131.073108 47.525345 132.200372 47.992272 133.375612 47.992272 \r\nz\r\n\" style=\"fill:#6fa4ff;stroke:#6fa4ff;stroke-linejoin:miter;stroke-width:1.5;\"/>\r\n   </g>\r\n   <g id=\"patch_6\">\r\n    <path clip-path=\"url(#p788edac38d)\" d=\"M 133.375612 99.351902 \r\nC 136.117839 99.351902 138.748121 98.262404 140.687169 96.323357 \r\nC 142.626216 94.384309 143.715715 91.754027 143.715715 89.0118 \r\nC 143.715715 86.269573 142.626216 83.639291 140.687169 81.700243 \r\nC 138.748121 79.761196 136.117839 78.671697 133.375612 78.671697 \r\nC 130.633385 78.671697 128.003103 79.761196 126.064055 81.700243 \r\nC 124.125008 83.639291 123.03551 86.269573 123.03551 89.0118 \r\nC 123.03551 91.754027 124.125008 94.384309 126.064055 96.323357 \r\nC 128.003103 98.262404 130.633385 99.351902 133.375612 99.351902 \r\nz\r\n\" style=\"fill:#6fa4ff;stroke:#6fa4ff;stroke-linejoin:miter;stroke-width:2;\"/>\r\n   </g>\r\n   <g id=\"patch_7\">\r\n    <path clip-path=\"url(#p788edac38d)\" d=\"M 164.055037 58.332375 \r\nL 193.598187 58.332375 \r\nL 193.598187 28.789225 \r\nL 164.055037 28.789225 \r\nz\r\n\" style=\"stroke:#000000;stroke-linejoin:miter;stroke-width:1.5;\"/>\r\n   </g>\r\n   <g id=\"patch_8\">\r\n    <path clip-path=\"url(#p788edac38d)\" d=\"M 189.166715 47.992272 \r\nC 189.166715 45.250959 188.07657 42.619118 186.138169 40.680716 \r\nC 184.199767 38.742314 181.567926 37.65217 178.826612 37.65217 \r\nC 176.085298 37.65217 173.453457 38.742314 171.515055 40.680716 \r\nC 169.576654 42.619118 168.48651 45.250959 168.48651 47.992272 \r\n\" style=\"fill:none;stroke:#ffffff;stroke-linejoin:miter;stroke-width:2;\"/>\r\n   </g>\r\n   <g id=\"patch_9\">\r\n    <path clip-path=\"url(#p788edac38d)\" d=\"M 209.506037 103.783375 \r\nL 239.049187 103.783375 \r\nL 239.049187 74.240225 \r\nL 209.506037 74.240225 \r\nz\r\n\" style=\"stroke:#000000;stroke-linejoin:miter;stroke-width:1.5;\"/>\r\n   </g>\r\n   <g id=\"patch_10\">\r\n    <path clip-path=\"url(#p788edac38d)\" d=\"M 234.617715 93.443272 \r\nC 234.617715 90.701959 233.52757 88.070118 231.589169 86.131716 \r\nC 229.650767 84.193314 227.018926 83.10317 224.277612 83.10317 \r\nC 221.536298 83.10317 218.904457 84.193314 216.966055 86.131716 \r\nC 215.027654 88.070118 213.93751 90.701959 213.93751 93.443272 \r\n\" style=\"fill:none;stroke:#ffffff;stroke-linejoin:miter;stroke-width:2;\"/>\r\n   </g>\r\n   <g id=\"line2d_11\">\r\n    <path clip-path=\"url(#p788edac38d)\" d=\"M 178.826612 47.992272 \r\nL 189.166715 37.65217 \r\n\" style=\"fill:none;stroke:#ffffff;stroke-linecap:square;stroke-width:2;\"/>\r\n   </g>\r\n   <g id=\"line2d_12\">\r\n    <path clip-path=\"url(#p788edac38d)\" d=\"M 224.277612 93.443272 \r\nL 234.617715 83.10317 \r\n\" style=\"fill:none;stroke:#ffffff;stroke-linecap:square;stroke-width:2;\"/>\r\n   </g>\r\n   <g id=\"line2d_13\">\r\n    <path clip-path=\"url(#p788edac38d)\" d=\"M 133.375612 94.92043 \r\nL 133.375612 83.10317 \r\n\" style=\"fill:none;stroke:#ffffff;stroke-linecap:square;stroke-width:2;\"/>\r\n   </g>\r\n   <g id=\"line2d_14\">\r\n    <path clip-path=\"url(#p788edac38d)\" d=\"M 127.466982 89.0118 \r\nL 139.284242 89.0118 \r\n\" style=\"fill:none;stroke:#ffffff;stroke-linecap:square;stroke-width:2;\"/>\r\n   </g>\r\n   <g id=\"text_1\">\r\n    <g clip-path=\"url(#p788edac38d)\">\r\n     <!-- X -->\r\n     <g transform=\"translate(83.472112 47.147987)scale(0.13 -0.13)\">\r\n      <defs>\r\n       <path d=\"M 403 4666 \r\nL 1081 4666 \r\nL 2241 2931 \r\nL 3406 4666 \r\nL 4084 4666 \r\nL 2584 2425 \r\nL 4184 0 \r\nL 3506 0 \r\nL 2194 1984 \r\nL 872 0 \r\nL 191 0 \r\nL 1856 2491 \r\nL 403 4666 \r\nz\r\n\" id=\"DejaVuSans-58\" transform=\"scale(0.015625)\"/>\r\n      </defs>\r\n      <use xlink:href=\"#DejaVuSans-58\"/>\r\n     </g>\r\n    </g>\r\n   </g>\r\n   <g id=\"text_2\">\r\n    <g clip-path=\"url(#p788edac38d)\">\r\n     <!-- 0 -->\r\n     <g transform=\"translate(190.189362 127.754825)scale(0.104 -0.104)\">\r\n      <defs>\r\n       <path d=\"M 2034 4250 \r\nQ 1547 4250 1301 3770 \r\nQ 1056 3291 1056 2328 \r\nQ 1056 1369 1301 889 \r\nQ 1547 409 2034 409 \r\nQ 2525 409 2770 889 \r\nQ 3016 1369 3016 2328 \r\nQ 3016 3291 2770 3770 \r\nQ 2525 4250 2034 4250 \r\nz\r\nM 2034 4750 \r\nQ 2819 4750 3233 4129 \r\nQ 3647 3509 3647 2328 \r\nQ 3647 1150 3233 529 \r\nQ 2819 -91 2034 -91 \r\nQ 1250 -91 836 529 \r\nQ 422 1150 422 2328 \r\nQ 422 3509 836 4129 \r\nQ 1250 4750 2034 4750 \r\nz\r\n\" id=\"DejaVuSans-30\" transform=\"scale(0.015625)\"/>\r\n      </defs>\r\n      <use xlink:href=\"#DejaVuSans-30\"/>\r\n     </g>\r\n    </g>\r\n   </g>\r\n   <g id=\"text_3\">\r\n    <g clip-path=\"url(#p788edac38d)\">\r\n     <!-- 1 -->\r\n     <g transform=\"translate(235.640362 127.754825)scale(0.104 -0.104)\">\r\n      <defs>\r\n       <path d=\"M 794 531 \r\nL 1825 531 \r\nL 1825 4091 \r\nL 703 3866 \r\nL 703 4441 \r\nL 1819 4666 \r\nL 2450 4666 \r\nL 2450 531 \r\nL 3481 531 \r\nL 3481 0 \r\nL 794 0 \r\nL 794 531 \r\nz\r\n\" id=\"DejaVuSans-31\" transform=\"scale(0.015625)\"/>\r\n      </defs>\r\n      <use xlink:href=\"#DejaVuSans-31\"/>\r\n     </g>\r\n    </g>\r\n   </g>\r\n   <g id=\"text_4\">\r\n    <g clip-path=\"url(#p788edac38d)\">\r\n     <!-- ${q}_{0}$ -->\r\n     <g transform=\"translate(36.253372 48.011777)scale(0.1625 -0.1625)\">\r\n      <defs>\r\n       <path d=\"M 2669 525 \r\nQ 2438 222 2123 65 \r\nQ 1809 -91 1428 -91 \r\nQ 897 -91 595 267 \r\nQ 294 625 294 1253 \r\nQ 294 1759 480 2231 \r\nQ 666 2703 1013 3078 \r\nQ 1238 3322 1530 3453 \r\nQ 1822 3584 2144 3584 \r\nQ 2531 3584 2781 3431 \r\nQ 3031 3278 3144 2969 \r\nL 3244 3494 \r\nL 3822 3494 \r\nL 2888 -1319 \r\nL 2309 -1319 \r\nL 2669 525 \r\nz\r\nM 891 1338 \r\nQ 891 875 1084 633 \r\nQ 1278 391 1644 391 \r\nQ 2188 391 2572 911 \r\nQ 2956 1431 2956 2175 \r\nQ 2956 2625 2757 2864 \r\nQ 2559 3103 2188 3103 \r\nQ 1916 3103 1684 2976 \r\nQ 1453 2850 1281 2606 \r\nQ 1100 2350 995 2006 \r\nQ 891 1663 891 1338 \r\nz\r\n\" id=\"DejaVuSans-Oblique-71\" transform=\"scale(0.015625)\"/>\r\n      </defs>\r\n      <use xlink:href=\"#DejaVuSans-Oblique-71\"/>\r\n      <use transform=\"translate(63.476562 -16.40625)scale(0.7)\" xlink:href=\"#DejaVuSans-30\"/>\r\n     </g>\r\n    </g>\r\n   </g>\r\n   <g id=\"text_5\">\r\n    <g clip-path=\"url(#p788edac38d)\">\r\n     <!-- ${q}_{1}$ -->\r\n     <g transform=\"translate(36.253372 93.462777)scale(0.1625 -0.1625)\">\r\n      <use xlink:href=\"#DejaVuSans-Oblique-71\"/>\r\n      <use transform=\"translate(63.476562 -16.40625)scale(0.7)\" xlink:href=\"#DejaVuSans-31\"/>\r\n     </g>\r\n    </g>\r\n   </g>\r\n   <g id=\"text_6\">\r\n    <g clip-path=\"url(#p788edac38d)\">\r\n     <!-- 2 -->\r\n     <g transform=\"translate(67.926172 127.754825)scale(0.104 -0.104)\">\r\n      <defs>\r\n       <path d=\"M 1228 531 \r\nL 3431 531 \r\nL 3431 0 \r\nL 469 0 \r\nL 469 531 \r\nQ 828 903 1448 1529 \r\nQ 2069 2156 2228 2338 \r\nQ 2531 2678 2651 2914 \r\nQ 2772 3150 2772 3378 \r\nQ 2772 3750 2511 3984 \r\nQ 2250 4219 1831 4219 \r\nQ 1534 4219 1204 4116 \r\nQ 875 4013 500 3803 \r\nL 500 4441 \r\nQ 881 4594 1212 4672 \r\nQ 1544 4750 1819 4750 \r\nQ 2544 4750 2975 4387 \r\nQ 3406 4025 3406 3419 \r\nQ 3406 3131 3298 2873 \r\nQ 3191 2616 2906 2266 \r\nQ 2828 2175 2409 1742 \r\nQ 1991 1309 1228 531 \r\nz\r\n\" id=\"DejaVuSans-32\" transform=\"scale(0.015625)\"/>\r\n      </defs>\r\n      <use xlink:href=\"#DejaVuSans-32\"/>\r\n     </g>\r\n    </g>\r\n   </g>\r\n   <g id=\"text_7\">\r\n    <g clip-path=\"url(#p788edac38d)\">\r\n     <!-- c -->\r\n     <g transform=\"translate(45.355911 138.946784)scale(0.1625 -0.1625)\">\r\n      <defs>\r\n       <path d=\"M 3122 3366 \r\nL 3122 2828 \r\nQ 2878 2963 2633 3030 \r\nQ 2388 3097 2138 3097 \r\nQ 1578 3097 1268 2742 \r\nQ 959 2388 959 1747 \r\nQ 959 1106 1268 751 \r\nQ 1578 397 2138 397 \r\nQ 2388 397 2633 464 \r\nQ 2878 531 3122 666 \r\nL 3122 134 \r\nQ 2881 22 2623 -34 \r\nQ 2366 -91 2075 -91 \r\nQ 1284 -91 818 406 \r\nQ 353 903 353 1747 \r\nQ 353 2603 823 3093 \r\nQ 1294 3584 2113 3584 \r\nQ 2378 3584 2631 3529 \r\nQ 2884 3475 3122 3366 \r\nz\r\n\" id=\"DejaVuSans-63\" transform=\"scale(0.015625)\"/>\r\n      </defs>\r\n      <use xlink:href=\"#DejaVuSans-63\"/>\r\n     </g>\r\n    </g>\r\n   </g>\r\n  </g>\r\n </g>\r\n <defs>\r\n  <clipPath id=\"p788edac38d\">\r\n   <rect height=\"154.5334\" width=\"247.075272\" x=\"7.2\" y=\"7.2\"/>\r\n  </clipPath>\r\n </defs>\r\n</svg>\r\n",
      "image/png": "[encoded data removed]"
     },
     "metadata": {},
     "execution_count": 3
    },
    {
     "output_type": "display_data",
     "data": {
      "text/plain": "<Figure size 327.252x204.68 with 1 Axes>",
      "image/svg+xml": "<?xml version=\"1.0\" encoding=\"utf-8\" standalone=\"no\"?>\r\n<!DOCTYPE svg PUBLIC \"-//W3C//DTD SVG 1.1//EN\"\r\n  \"http://www.w3.org/Graphics/SVG/1.1/DTD/svg11.dtd\">\r\n<svg height=\"168.9334pt\" version=\"1.1\" viewBox=\"0 0 261.475272 168.9334\" width=\"261.475272pt\" xmlns=\"http://www.w3.org/2000/svg\" xmlns:xlink=\"http://www.w3.org/1999/xlink\">\r\n <metadata>\r\n  <rdf:RDF xmlns:cc=\"http://creativecommons.org/ns#\" xmlns:dc=\"http://purl.org/dc/elements/1.1/\" xmlns:rdf=\"http://www.w3.org/1999/02/22-rdf-syntax-ns#\">\r\n   <cc:Work>\r\n    <dc:type rdf:resource=\"http://purl.org/dc/dcmitype/StillImage\"/>\r\n    <dc:date>2021-06-12T23:42:27.261637</dc:date>\r\n    <dc:format>image/svg+xml</dc:format>\r\n    <dc:creator>\r\n     <cc:Agent>\r\n      <dc:title>Matplotlib v3.4.2, https://matplotlib.org/</dc:title>\r\n     </cc:Agent>\r\n    </dc:creator>\r\n   </cc:Work>\r\n  </rdf:RDF>\r\n </metadata>\r\n <defs>\r\n  <style type=\"text/css\">*{stroke-linecap:butt;stroke-linejoin:round;}</style>\r\n </defs>\r\n <g id=\"figure_1\">\r\n  <g id=\"patch_1\">\r\n   <path d=\"M 0 168.9334 \r\nL 261.475272 168.9334 \r\nL 261.475272 0 \r\nL 0 0 \r\nz\r\n\" style=\"fill:#ffffff;\"/>\r\n  </g>\r\n  <g id=\"axes_1\">\r\n   <g id=\"patch_2\">\r\n    <path clip-path=\"url(#p0506423037)\" d=\"M 172.917982 124.122697 \r\nL 184.735242 124.122697 \r\nL 178.826612 132.64476 \r\nz\r\n\" style=\"fill:#778899;\"/>\r\n   </g>\r\n   <g id=\"patch_3\">\r\n    <path clip-path=\"url(#p0506423037)\" d=\"M 218.368982 124.122697 \r\nL 230.186242 124.122697 \r\nL 224.277612 132.64476 \r\nz\r\n\" style=\"fill:#778899;\"/>\r\n   </g>\r\n   <g id=\"line2d_1\">\r\n    <path clip-path=\"url(#p0506423037)\" d=\"M 63.381072 43.5608 \r\nL 249.730172 43.5608 \r\n\" style=\"fill:none;stroke:#000000;stroke-linecap:square;stroke-width:2;\"/>\r\n   </g>\r\n   <g id=\"line2d_2\">\r\n    <path clip-path=\"url(#p0506423037)\" d=\"M 63.381072 89.0118 \r\nL 249.730172 89.0118 \r\n\" style=\"fill:none;stroke:#000000;stroke-linecap:square;stroke-width:2;\"/>\r\n   </g>\r\n   <g id=\"line2d_3\">\r\n    <path clip-path=\"url(#p0506423037)\" d=\"M 63.381072 132.985642 \r\nL 249.730172 132.985642 \r\n\" style=\"fill:none;stroke:#778899;stroke-linecap:square;stroke-width:2;\"/>\r\n   </g>\r\n   <g id=\"line2d_4\">\r\n    <path clip-path=\"url(#p0506423037)\" d=\"M 63.381072 135.939957 \r\nL 249.730172 135.939957 \r\n\" style=\"fill:none;stroke:#778899;stroke-linecap:square;stroke-width:2;\"/>\r\n   </g>\r\n   <g id=\"line2d_5\">\r\n    <path clip-path=\"url(#p0506423037)\" d=\"M 133.375612 89.0118 \r\nL 133.375612 43.5608 \r\n\" style=\"fill:none;stroke:#6fa4ff;stroke-linecap:square;stroke-width:2;\"/>\r\n   </g>\r\n   <g id=\"line2d_6\">\r\n    <path clip-path=\"url(#p0506423037)\" d=\"M 180.30377 43.5608 \r\nL 180.30377 124.122697 \r\n\" style=\"fill:none;stroke:#778899;stroke-linecap:square;stroke-width:2;\"/>\r\n   </g>\r\n   <g id=\"line2d_7\">\r\n    <path clip-path=\"url(#p0506423037)\" d=\"M 177.349455 43.5608 \r\nL 177.349455 124.122697 \r\n\" style=\"fill:none;stroke:#778899;stroke-linecap:square;stroke-width:2;\"/>\r\n   </g>\r\n   <g id=\"line2d_8\">\r\n    <path clip-path=\"url(#p0506423037)\" d=\"M 225.75477 89.0118 \r\nL 225.75477 124.122697 \r\n\" style=\"fill:none;stroke:#778899;stroke-linecap:square;stroke-width:2;\"/>\r\n   </g>\r\n   <g id=\"line2d_9\">\r\n    <path clip-path=\"url(#p0506423037)\" d=\"M 222.800455 89.0118 \r\nL 222.800455 124.122697 \r\n\" style=\"fill:none;stroke:#778899;stroke-linecap:square;stroke-width:2;\"/>\r\n   </g>\r\n   <g id=\"line2d_10\">\r\n    <path clip-path=\"url(#p0506423037)\" d=\"M 72.471272 139.0079 \r\nL 77.016372 129.9177 \r\n\" style=\"fill:none;stroke:#778899;stroke-linecap:square;stroke-width:1.5;\"/>\r\n   </g>\r\n   <g id=\"patch_4\">\r\n    <path clip-path=\"url(#p0506423037)\" d=\"M 73.153037 58.332375 \r\nL 102.696187 58.332375 \r\nL 102.696187 28.789225 \r\nL 73.153037 28.789225 \r\nz\r\n\" style=\"fill:#05bab6;stroke:#05bab6;stroke-linejoin:miter;stroke-width:1.5;\"/>\r\n   </g>\r\n   <g id=\"patch_5\">\r\n    <path clip-path=\"url(#p0506423037)\" d=\"M 133.375612 47.992272 \r\nC 134.550852 47.992272 135.678116 47.525345 136.509136 46.694324 \r\nC 137.340157 45.863304 137.807085 44.73604 137.807085 43.5608 \r\nC 137.807085 42.38556 137.340157 41.258296 136.509136 40.427276 \r\nC 135.678116 39.596255 134.550852 39.129327 133.375612 39.129327 \r\nC 132.200372 39.129327 131.073108 39.596255 130.242088 40.427276 \r\nC 129.411067 41.258296 128.94414 42.38556 128.94414 43.5608 \r\nC 128.94414 44.73604 129.411067 45.863304 130.242088 46.694324 \r\nC 131.073108 47.525345 132.200372 47.992272 133.375612 47.992272 \r\nz\r\n\" style=\"fill:#6fa4ff;stroke:#6fa4ff;stroke-linejoin:miter;stroke-width:1.5;\"/>\r\n   </g>\r\n   <g id=\"patch_6\">\r\n    <path clip-path=\"url(#p0506423037)\" d=\"M 133.375612 99.351902 \r\nC 136.117839 99.351902 138.748121 98.262404 140.687169 96.323357 \r\nC 142.626216 94.384309 143.715715 91.754027 143.715715 89.0118 \r\nC 143.715715 86.269573 142.626216 83.639291 140.687169 81.700243 \r\nC 138.748121 79.761196 136.117839 78.671697 133.375612 78.671697 \r\nC 130.633385 78.671697 128.003103 79.761196 126.064055 81.700243 \r\nC 124.125008 83.639291 123.03551 86.269573 123.03551 89.0118 \r\nC 123.03551 91.754027 124.125008 94.384309 126.064055 96.323357 \r\nC 128.003103 98.262404 130.633385 99.351902 133.375612 99.351902 \r\nz\r\n\" style=\"fill:#6fa4ff;stroke:#6fa4ff;stroke-linejoin:miter;stroke-width:2;\"/>\r\n   </g>\r\n   <g id=\"patch_7\">\r\n    <path clip-path=\"url(#p0506423037)\" d=\"M 164.055037 58.332375 \r\nL 193.598187 58.332375 \r\nL 193.598187 28.789225 \r\nL 164.055037 28.789225 \r\nz\r\n\" style=\"stroke:#000000;stroke-linejoin:miter;stroke-width:1.5;\"/>\r\n   </g>\r\n   <g id=\"patch_8\">\r\n    <path clip-path=\"url(#p0506423037)\" d=\"M 189.166715 47.992272 \r\nC 189.166715 45.250959 188.07657 42.619118 186.138169 40.680716 \r\nC 184.199767 38.742314 181.567926 37.65217 178.826612 37.65217 \r\nC 176.085298 37.65217 173.453457 38.742314 171.515055 40.680716 \r\nC 169.576654 42.619118 168.48651 45.250959 168.48651 47.992272 \r\n\" style=\"fill:none;stroke:#ffffff;stroke-linejoin:miter;stroke-width:2;\"/>\r\n   </g>\r\n   <g id=\"patch_9\">\r\n    <path clip-path=\"url(#p0506423037)\" d=\"M 209.506037 103.783375 \r\nL 239.049187 103.783375 \r\nL 239.049187 74.240225 \r\nL 209.506037 74.240225 \r\nz\r\n\" style=\"stroke:#000000;stroke-linejoin:miter;stroke-width:1.5;\"/>\r\n   </g>\r\n   <g id=\"patch_10\">\r\n    <path clip-path=\"url(#p0506423037)\" d=\"M 234.617715 93.443272 \r\nC 234.617715 90.701959 233.52757 88.070118 231.589169 86.131716 \r\nC 229.650767 84.193314 227.018926 83.10317 224.277612 83.10317 \r\nC 221.536298 83.10317 218.904457 84.193314 216.966055 86.131716 \r\nC 215.027654 88.070118 213.93751 90.701959 213.93751 93.443272 \r\n\" style=\"fill:none;stroke:#ffffff;stroke-linejoin:miter;stroke-width:2;\"/>\r\n   </g>\r\n   <g id=\"line2d_11\">\r\n    <path clip-path=\"url(#p0506423037)\" d=\"M 178.826612 47.992272 \r\nL 189.166715 37.65217 \r\n\" style=\"fill:none;stroke:#ffffff;stroke-linecap:square;stroke-width:2;\"/>\r\n   </g>\r\n   <g id=\"line2d_12\">\r\n    <path clip-path=\"url(#p0506423037)\" d=\"M 224.277612 93.443272 \r\nL 234.617715 83.10317 \r\n\" style=\"fill:none;stroke:#ffffff;stroke-linecap:square;stroke-width:2;\"/>\r\n   </g>\r\n   <g id=\"line2d_13\">\r\n    <path clip-path=\"url(#p0506423037)\" d=\"M 133.375612 94.92043 \r\nL 133.375612 83.10317 \r\n\" style=\"fill:none;stroke:#ffffff;stroke-linecap:square;stroke-width:2;\"/>\r\n   </g>\r\n   <g id=\"line2d_14\">\r\n    <path clip-path=\"url(#p0506423037)\" d=\"M 127.466982 89.0118 \r\nL 139.284242 89.0118 \r\n\" style=\"fill:none;stroke:#ffffff;stroke-linecap:square;stroke-width:2;\"/>\r\n   </g>\r\n   <g id=\"text_1\">\r\n    <g clip-path=\"url(#p0506423037)\">\r\n     <!-- X -->\r\n     <g transform=\"translate(83.472112 47.147987)scale(0.13 -0.13)\">\r\n      <defs>\r\n       <path d=\"M 403 4666 \r\nL 1081 4666 \r\nL 2241 2931 \r\nL 3406 4666 \r\nL 4084 4666 \r\nL 2584 2425 \r\nL 4184 0 \r\nL 3506 0 \r\nL 2194 1984 \r\nL 872 0 \r\nL 191 0 \r\nL 1856 2491 \r\nL 403 4666 \r\nz\r\n\" id=\"DejaVuSans-58\" transform=\"scale(0.015625)\"/>\r\n      </defs>\r\n      <use xlink:href=\"#DejaVuSans-58\"/>\r\n     </g>\r\n    </g>\r\n   </g>\r\n   <g id=\"text_2\">\r\n    <g clip-path=\"url(#p0506423037)\">\r\n     <!-- 0 -->\r\n     <g transform=\"translate(190.189362 127.754825)scale(0.104 -0.104)\">\r\n      <defs>\r\n       <path d=\"M 2034 4250 \r\nQ 1547 4250 1301 3770 \r\nQ 1056 3291 1056 2328 \r\nQ 1056 1369 1301 889 \r\nQ 1547 409 2034 409 \r\nQ 2525 409 2770 889 \r\nQ 3016 1369 3016 2328 \r\nQ 3016 3291 2770 3770 \r\nQ 2525 4250 2034 4250 \r\nz\r\nM 2034 4750 \r\nQ 2819 4750 3233 4129 \r\nQ 3647 3509 3647 2328 \r\nQ 3647 1150 3233 529 \r\nQ 2819 -91 2034 -91 \r\nQ 1250 -91 836 529 \r\nQ 422 1150 422 2328 \r\nQ 422 3509 836 4129 \r\nQ 1250 4750 2034 4750 \r\nz\r\n\" id=\"DejaVuSans-30\" transform=\"scale(0.015625)\"/>\r\n      </defs>\r\n      <use xlink:href=\"#DejaVuSans-30\"/>\r\n     </g>\r\n    </g>\r\n   </g>\r\n   <g id=\"text_3\">\r\n    <g clip-path=\"url(#p0506423037)\">\r\n     <!-- 1 -->\r\n     <g transform=\"translate(235.640362 127.754825)scale(0.104 -0.104)\">\r\n      <defs>\r\n       <path d=\"M 794 531 \r\nL 1825 531 \r\nL 1825 4091 \r\nL 703 3866 \r\nL 703 4441 \r\nL 1819 4666 \r\nL 2450 4666 \r\nL 2450 531 \r\nL 3481 531 \r\nL 3481 0 \r\nL 794 0 \r\nL 794 531 \r\nz\r\n\" id=\"DejaVuSans-31\" transform=\"scale(0.015625)\"/>\r\n      </defs>\r\n      <use xlink:href=\"#DejaVuSans-31\"/>\r\n     </g>\r\n    </g>\r\n   </g>\r\n   <g id=\"text_4\">\r\n    <g clip-path=\"url(#p0506423037)\">\r\n     <!-- ${q}_{0}$ -->\r\n     <g transform=\"translate(36.253372 48.011777)scale(0.1625 -0.1625)\">\r\n      <defs>\r\n       <path d=\"M 2669 525 \r\nQ 2438 222 2123 65 \r\nQ 1809 -91 1428 -91 \r\nQ 897 -91 595 267 \r\nQ 294 625 294 1253 \r\nQ 294 1759 480 2231 \r\nQ 666 2703 1013 3078 \r\nQ 1238 3322 1530 3453 \r\nQ 1822 3584 2144 3584 \r\nQ 2531 3584 2781 3431 \r\nQ 3031 3278 3144 2969 \r\nL 3244 3494 \r\nL 3822 3494 \r\nL 2888 -1319 \r\nL 2309 -1319 \r\nL 2669 525 \r\nz\r\nM 891 1338 \r\nQ 891 875 1084 633 \r\nQ 1278 391 1644 391 \r\nQ 2188 391 2572 911 \r\nQ 2956 1431 2956 2175 \r\nQ 2956 2625 2757 2864 \r\nQ 2559 3103 2188 3103 \r\nQ 1916 3103 1684 2976 \r\nQ 1453 2850 1281 2606 \r\nQ 1100 2350 995 2006 \r\nQ 891 1663 891 1338 \r\nz\r\n\" id=\"DejaVuSans-Oblique-71\" transform=\"scale(0.015625)\"/>\r\n      </defs>\r\n      <use xlink:href=\"#DejaVuSans-Oblique-71\"/>\r\n      <use transform=\"translate(63.476562 -16.40625)scale(0.7)\" xlink:href=\"#DejaVuSans-30\"/>\r\n     </g>\r\n    </g>\r\n   </g>\r\n   <g id=\"text_5\">\r\n    <g clip-path=\"url(#p0506423037)\">\r\n     <!-- ${q}_{1}$ -->\r\n     <g transform=\"translate(36.253372 93.462777)scale(0.1625 -0.1625)\">\r\n      <use xlink:href=\"#DejaVuSans-Oblique-71\"/>\r\n      <use transform=\"translate(63.476562 -16.40625)scale(0.7)\" xlink:href=\"#DejaVuSans-31\"/>\r\n     </g>\r\n    </g>\r\n   </g>\r\n   <g id=\"text_6\">\r\n    <g clip-path=\"url(#p0506423037)\">\r\n     <!-- 2 -->\r\n     <g transform=\"translate(67.926172 127.754825)scale(0.104 -0.104)\">\r\n      <defs>\r\n       <path d=\"M 1228 531 \r\nL 3431 531 \r\nL 3431 0 \r\nL 469 0 \r\nL 469 531 \r\nQ 828 903 1448 1529 \r\nQ 2069 2156 2228 2338 \r\nQ 2531 2678 2651 2914 \r\nQ 2772 3150 2772 3378 \r\nQ 2772 3750 2511 3984 \r\nQ 2250 4219 1831 4219 \r\nQ 1534 4219 1204 4116 \r\nQ 875 4013 500 3803 \r\nL 500 4441 \r\nQ 881 4594 1212 4672 \r\nQ 1544 4750 1819 4750 \r\nQ 2544 4750 2975 4387 \r\nQ 3406 4025 3406 3419 \r\nQ 3406 3131 3298 2873 \r\nQ 3191 2616 2906 2266 \r\nQ 2828 2175 2409 1742 \r\nQ 1991 1309 1228 531 \r\nz\r\n\" id=\"DejaVuSans-32\" transform=\"scale(0.015625)\"/>\r\n      </defs>\r\n      <use xlink:href=\"#DejaVuSans-32\"/>\r\n     </g>\r\n    </g>\r\n   </g>\r\n   <g id=\"text_7\">\r\n    <g clip-path=\"url(#p0506423037)\">\r\n     <!-- c -->\r\n     <g transform=\"translate(45.355911 138.946784)scale(0.1625 -0.1625)\">\r\n      <defs>\r\n       <path d=\"M 3122 3366 \r\nL 3122 2828 \r\nQ 2878 2963 2633 3030 \r\nQ 2388 3097 2138 3097 \r\nQ 1578 3097 1268 2742 \r\nQ 959 2388 959 1747 \r\nQ 959 1106 1268 751 \r\nQ 1578 397 2138 397 \r\nQ 2388 397 2633 464 \r\nQ 2878 531 3122 666 \r\nL 3122 134 \r\nQ 2881 22 2623 -34 \r\nQ 2366 -91 2075 -91 \r\nQ 1284 -91 818 406 \r\nQ 353 903 353 1747 \r\nQ 353 2603 823 3093 \r\nQ 1294 3584 2113 3584 \r\nQ 2378 3584 2631 3529 \r\nQ 2884 3475 3122 3366 \r\nz\r\n\" id=\"DejaVuSans-63\" transform=\"scale(0.015625)\"/>\r\n      </defs>\r\n      <use xlink:href=\"#DejaVuSans-63\"/>\r\n     </g>\r\n    </g>\r\n   </g>\r\n  </g>\r\n </g>\r\n <defs>\r\n  <clipPath id=\"p0506423037\">\r\n   <rect height=\"154.5334\" width=\"247.075272\" x=\"7.2\" y=\"7.2\"/>\r\n  </clipPath>\r\n </defs>\r\n</svg>\r\n",
      "image/png": "[encoded data removed]"
     },
     "metadata": {}
    }
   ],
   "source": [
    "circuit.draw(output=\"mpl\")  # matplotlib-based visualization."
   ]
  },
  {
   "cell_type": "code",
   "execution_count": 4,
   "metadata": {},
   "outputs": [
    {
     "output_type": "stream",
     "name": "stderr",
     "text": [
      "configrc.store_credentials:WARNING:2021-06-12 23:42:29,011: Credentials already present. Set overwrite=True to overwrite.\n"
     ]
    }
   ],
   "source": [
    "from qiskit import IBMQ\n",
    "\n",
    "IBMQ.save_account(open(\"token.txt\",\"r\").read())"
   ]
  },
  {
   "cell_type": "code",
   "execution_count": 5,
   "metadata": {},
   "outputs": [
    {
     "output_type": "execute_result",
     "data": {
      "text/plain": [
       "<AccountProvider for IBMQ(hub='ibm-q', group='open', project='main')>"
      ]
     },
     "metadata": {},
     "execution_count": 5
    }
   ],
   "source": [
    "IBMQ.load_account()"
   ]
  },
  {
   "cell_type": "code",
   "execution_count": 6,
   "metadata": {},
   "outputs": [
    {
     "output_type": "execute_result",
     "data": {
      "text/plain": [
       "[<AccountProvider for IBMQ(hub='ibm-q', group='open', project='main')>]"
      ]
     },
     "metadata": {},
     "execution_count": 6
    }
   ],
   "source": [
    "IBMQ.providers()"
   ]
  },
  {
   "cell_type": "code",
   "execution_count": 7,
   "metadata": {},
   "outputs": [],
   "source": [
    "provider = IBMQ.get_provider(\"ibm-q\")"
   ]
  },
  {
   "cell_type": "code",
   "execution_count": 8,
   "metadata": {},
   "outputs": [
    {
     "output_type": "stream",
     "name": "stdout",
     "text": [
      "ibmq_qasm_simulator has 2 queued and simulated qubits\n",
      "ibmqx2 has 716 queued and 5 qubits\n",
      "ibmq_16_melbourne has 37 queued and 15 qubits\n",
      "ibmq_armonk has 0 queued and 1 qubits\n",
      "ibmq_athens has 11 queued and 5 qubits\n",
      "ibmq_santiago has 23 queued and 5 qubits\n",
      "ibmq_lima has 30 queued and 5 qubits\n",
      "ibmq_belem has 6 queued and 5 qubits\n",
      "ibmq_quito has 8 queued and 5 qubits\n",
      "simulator_statevector has 1 queued and simulated qubits\n",
      "simulator_mps has 1 queued and simulated qubits\n",
      "simulator_extended_stabilizer has 1 queued and simulated qubits\n",
      "simulator_stabilizer has 1 queued and simulated qubits\n",
      "ibmq_manila has 5 queued and 5 qubits\n"
     ]
    }
   ],
   "source": [
    "for backend in provider.backends():\n",
    "    try:\n",
    "        qubit_count = len(backend.properties().qubits)\n",
    "    except:\n",
    "        qubit_count = \"simulated\"\n",
    "        \n",
    "    print(f\"{backend.name()} has {backend.status().pending_jobs} queued and {qubit_count} qubits\")"
   ]
  },
  {
   "cell_type": "code",
   "execution_count": 8,
   "metadata": {},
   "outputs": [
    {
     "output_type": "stream",
     "name": "stdout",
     "text": [
      "Job Status: job has successfully run\n"
     ]
    }
   ],
   "source": [
    "from qiskit.tools.monitor import job_monitor\n",
    "\n",
    "backend = provider.get_backend(\"ibmq_quito\")\n",
    "job = q.execute(circuit, backend=backend, shots=500)\n",
    "job_monitor(job)"
   ]
  },
  {
   "cell_type": "code",
   "execution_count": 1,
   "metadata": {},
   "outputs": [
    {
     "output_type": "error",
     "ename": "NameError",
     "evalue": "name 'job' is not defined",
     "traceback": [
      "\u001b[1;31m---------------------------------------------------------------------------\u001b[0m",
      "\u001b[1;31mNameError\u001b[0m                                 Traceback (most recent call last)",
      "\u001b[1;32m<ipython-input-1-f2b5e5d4cd68>\u001b[0m in \u001b[0;36m<module>\u001b[1;34m\u001b[0m\n\u001b[0;32m      4\u001b[0m \u001b[0mstyle\u001b[0m\u001b[1;33m.\u001b[0m\u001b[0muse\u001b[0m\u001b[1;33m(\u001b[0m\u001b[1;34m\"dark_background\"\u001b[0m\u001b[1;33m)\u001b[0m \u001b[1;31m# I am using dark mode notebook, so I use this to see the chart.\u001b[0m\u001b[1;33m\u001b[0m\u001b[0m\n\u001b[0;32m      5\u001b[0m \u001b[1;33m\u001b[0m\u001b[0m\n\u001b[1;32m----> 6\u001b[1;33m \u001b[0mresult\u001b[0m \u001b[1;33m=\u001b[0m \u001b[0mjob\u001b[0m\u001b[1;33m.\u001b[0m\u001b[0mresult\u001b[0m\u001b[1;33m(\u001b[0m\u001b[1;33m)\u001b[0m\u001b[1;33m\u001b[0m\u001b[0m\n\u001b[0m\u001b[0;32m      7\u001b[0m \u001b[0mcounts\u001b[0m \u001b[1;33m=\u001b[0m \u001b[0mresult\u001b[0m\u001b[1;33m.\u001b[0m\u001b[0mget_counts\u001b[0m\u001b[1;33m(\u001b[0m\u001b[0mcircuit\u001b[0m\u001b[1;33m)\u001b[0m\u001b[1;33m\u001b[0m\u001b[0m\n\u001b[0;32m      8\u001b[0m \u001b[1;33m\u001b[0m\u001b[0m\n",
      "\u001b[1;31mNameError\u001b[0m: name 'job' is not defined"
     ]
    }
   ],
   "source": [
    "from qiskit.visualization import plot_histogram\n",
    "from matplotlib import style\n",
    "\n",
    "style.use(\"dark_background\") # I am using dark mode notebook, so I use this to see the chart.\n",
    "\n",
    "result = job.result()\n",
    "counts = result.get_counts(circuit)\n",
    "\n",
    "plot_histogram([counts], legend=['Device'])"
   ]
  },
  {
   "cell_type": "code",
   "execution_count": null,
   "metadata": {},
   "outputs": [],
   "source": []
  }
 ]
}